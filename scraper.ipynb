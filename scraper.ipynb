{
 "cells": [
  {
   "cell_type": "code",
   "id": "initial_id",
   "metadata": {
    "collapsed": true,
    "ExecuteTime": {
     "end_time": "2025-07-09T16:31:04.820599Z",
     "start_time": "2025-07-09T16:31:04.816827Z"
    }
   },
   "source": [
    "from bs4 import BeautifulSoup\n",
    "import requests\n",
    "import json"
   ],
   "outputs": [],
   "execution_count": 189
  },
  {
   "metadata": {
    "ExecuteTime": {
     "end_time": "2025-07-09T16:31:05.136684Z",
     "start_time": "2025-07-09T16:31:05.133102Z"
    }
   },
   "cell_type": "code",
   "source": [
    "MENU_URL = 'https://www.mcdonalds.com/ua/uk-ua/eat/fullmenu.html'\n",
    "PRODUCT_BASE_URL = 'https://www.mcdonalds.com/dnaapp/itemDetails?country=UA&language=uk&showLiveData=true&item='"
   ],
   "id": "4192c8decc2920c2",
   "outputs": [],
   "execution_count": 190
  },
  {
   "metadata": {
    "ExecuteTime": {
     "end_time": "2025-07-09T16:31:05.503380Z",
     "start_time": "2025-07-09T16:31:05.495822Z"
    }
   },
   "cell_type": "code",
   "source": [
    "def get_product_details(product_url):\n",
    "    try:\n",
    "        response = requests.get(product_url)\n",
    "        response.raise_for_status()\n",
    "        soup = BeautifulSoup(response.content, 'html.parser')\n",
    "\n",
    "        data_product_id = soup.find('div', id=\"page-root\")['data-product-id']\n",
    "        response = requests.get(PRODUCT_BASE_URL + data_product_id)\n",
    "        response.raise_for_status()\n",
    "\n",
    "        product_data = json.loads(response.text)['item']\n",
    "        result = {'name' : product_data['item_name'],\n",
    "                  'description' : product_data['description'],\n",
    "                  'calories' : product_data['nutrient_facts']['nutrient'][2]['value'],\n",
    "                  'fats' : product_data['nutrient_facts']['nutrient'][3]['value'],\n",
    "                  'carbs' : product_data['nutrient_facts']['nutrient'][5]['value'],\n",
    "                  'proteins' : product_data['nutrient_facts']['nutrient'][7]['value'],\n",
    "                  'unsaturated_fats' : product_data['nutrient_facts']['nutrient'][4]['value'],\n",
    "                  'sugar' : product_data['nutrient_facts']['nutrient'][6]['value'],\n",
    "                  'salt' : product_data['nutrient_facts']['nutrient'][8]['value'],\n",
    "                  'portion' : product_data['nutrient_facts']['nutrient'][0]['value']\n",
    "                  }\n",
    "\n",
    "        return result\n",
    "\n",
    "    except requests.exceptions.RequestException as e:\n",
    "        print(f\"Error fetching {product_url}: {e}\")\n",
    "        return None\n",
    "    except Exception as e:\n",
    "        print(f\"Error parsing {product_url}: {e}\")\n",
    "        return None"
   ],
   "id": "63d66406b2f15b2",
   "outputs": [],
   "execution_count": 191
  },
  {
   "metadata": {
    "ExecuteTime": {
     "end_time": "2025-07-09T16:31:08.477031Z",
     "start_time": "2025-07-09T16:31:08.158748Z"
    }
   },
   "cell_type": "code",
   "source": [
    "response = requests.get(MENU_URL)\n",
    "soup = BeautifulSoup(response.content, 'html.parser')"
   ],
   "id": "78b3a5e2ff388f87",
   "outputs": [],
   "execution_count": 192
  },
  {
   "metadata": {
    "ExecuteTime": {
     "end_time": "2025-07-09T16:31:08.624033Z",
     "start_time": "2025-07-09T16:31:08.616263Z"
    }
   },
   "cell_type": "code",
   "source": [
    "products_links = set()\n",
    "for link in soup.find_all('a', class_='cmp-category__item-link'):\n",
    "        href = link.get('href')\n",
    "        if href and href.startswith('/ua/uk-ua/product/'):\n",
    "            full_url = f\"https://www.mcdonalds.com{href}\"\n",
    "            products_links.add(full_url)"
   ],
   "id": "7d06894eabd30689",
   "outputs": [],
   "execution_count": 193
  },
  {
   "metadata": {
    "ExecuteTime": {
     "end_time": "2025-07-09T16:31:39.070967Z",
     "start_time": "2025-07-09T16:31:09.286772Z"
    }
   },
   "cell_type": "code",
   "source": [
    "products_data = []\n",
    "for link in products_links:\n",
    "        print(link)\n",
    "        data = get_product_details(link)\n",
    "        if data:\n",
    "            products_data.append(data)\n"
   ],
   "id": "677db7a730365866",
   "outputs": [
    {
     "name": "stdout",
     "output_type": "stream",
     "text": [
      "https://www.mcdonalds.com/ua/uk-ua/product/200028.html\n",
      "https://www.mcdonalds.com/ua/uk-ua/product/200125.html\n",
      "https://www.mcdonalds.com/ua/uk-ua/product/200242.html\n",
      "https://www.mcdonalds.com/ua/uk-ua/product/200163.html\n",
      "https://www.mcdonalds.com/ua/uk-ua/product/200044.html\n",
      "https://www.mcdonalds.com/ua/uk-ua/product/200266.html\n",
      "https://www.mcdonalds.com/ua/uk-ua/product/200403.html\n",
      "https://www.mcdonalds.com/ua/uk-ua/product/200160.html\n",
      "https://www.mcdonalds.com/ua/uk-ua/product/200341.html\n",
      "https://www.mcdonalds.com/ua/uk-ua/product/200243.html\n",
      "https://www.mcdonalds.com/ua/uk-ua/product/200031.html\n",
      "https://www.mcdonalds.com/ua/uk-ua/product/200372.html\n",
      "https://www.mcdonalds.com/ua/uk-ua/product/7318.html\n",
      "https://www.mcdonalds.com/ua/uk-ua/product/200342.html\n",
      "https://www.mcdonalds.com/ua/uk-ua/product/200119.html\n",
      "https://www.mcdonalds.com/ua/uk-ua/product/200361.html\n",
      "https://www.mcdonalds.com/ua/uk-ua/product/200051.html\n",
      "https://www.mcdonalds.com/ua/uk-ua/product/200396.html\n",
      "https://www.mcdonalds.com/ua/uk-ua/product/200035.html\n",
      "https://www.mcdonalds.com/ua/uk-ua/product/200049.html\n",
      "https://www.mcdonalds.com/ua/uk-ua/product/7099.html\n",
      "https://www.mcdonalds.com/ua/uk-ua/product/200136.html\n",
      "https://www.mcdonalds.com/ua/uk-ua/product/200124.html\n",
      "https://www.mcdonalds.com/ua/uk-ua/product/200158.html\n",
      "https://www.mcdonalds.com/ua/uk-ua/product/200340.html\n",
      "https://www.mcdonalds.com/ua/uk-ua/product/200053.html\n",
      "https://www.mcdonalds.com/ua/uk-ua/product/200010.html\n",
      "https://www.mcdonalds.com/ua/uk-ua/product/200231.html\n",
      "https://www.mcdonalds.com/ua/uk-ua/product/200249.html\n",
      "https://www.mcdonalds.com/ua/uk-ua/product/200428.html\n",
      "https://www.mcdonalds.com/ua/uk-ua/product/200146.html\n",
      "https://www.mcdonalds.com/ua/uk-ua/product/200036.html\n",
      "https://www.mcdonalds.com/ua/uk-ua/product/200060.html\n",
      "https://www.mcdonalds.com/ua/uk-ua/product/200430.html\n",
      "https://www.mcdonalds.com/ua/uk-ua/product/200040.html\n",
      "https://www.mcdonalds.com/ua/uk-ua/product/200050.html\n",
      "https://www.mcdonalds.com/ua/uk-ua/product/200159.html\n",
      "https://www.mcdonalds.com/ua/uk-ua/product/200429.html\n",
      "https://www.mcdonalds.com/ua/uk-ua/product/200375.html\n",
      "https://www.mcdonalds.com/ua/uk-ua/product/200026.html\n",
      "https://www.mcdonalds.com/ua/uk-ua/product/200033.html\n",
      "https://www.mcdonalds.com/ua/uk-ua/product/200027.html\n",
      "https://www.mcdonalds.com/ua/uk-ua/product/200116.html\n",
      "https://www.mcdonalds.com/ua/uk-ua/product/200113.html\n",
      "https://www.mcdonalds.com/ua/uk-ua/product/200052.html\n",
      "https://www.mcdonalds.com/ua/uk-ua/product/200041.html\n",
      "https://www.mcdonalds.com/ua/uk-ua/product/200162.html\n",
      "https://www.mcdonalds.com/ua/uk-ua/product/200376.html\n",
      "https://www.mcdonalds.com/ua/uk-ua/product/200034.html\n",
      "https://www.mcdonalds.com/ua/uk-ua/product/200152.html\n",
      "https://www.mcdonalds.com/ua/uk-ua/product/200141.html\n",
      "https://www.mcdonalds.com/ua/uk-ua/product/200144.html\n",
      "https://www.mcdonalds.com/ua/uk-ua/product/200195.html\n",
      "https://www.mcdonalds.com/ua/uk-ua/product/200032.html\n",
      "https://www.mcdonalds.com/ua/uk-ua/product/200039.html\n",
      "https://www.mcdonalds.com/ua/uk-ua/product/200114.html\n",
      "https://www.mcdonalds.com/ua/uk-ua/product/200145.html\n",
      "https://www.mcdonalds.com/ua/uk-ua/product/200153.html\n",
      "https://www.mcdonalds.com/ua/uk-ua/product/200148.html\n",
      "https://www.mcdonalds.com/ua/uk-ua/product/200143.html\n",
      "https://www.mcdonalds.com/ua/uk-ua/product/200111.html\n",
      "https://www.mcdonalds.com/ua/uk-ua/product/200121.html\n",
      "https://www.mcdonalds.com/ua/uk-ua/product/200154.html\n",
      "https://www.mcdonalds.com/ua/uk-ua/product/200151.html\n",
      "https://www.mcdonalds.com/ua/uk-ua/product/200037.html\n",
      "https://www.mcdonalds.com/ua/uk-ua/product/200123.html\n",
      "https://www.mcdonalds.com/ua/uk-ua/product/200155.html\n",
      "https://www.mcdonalds.com/ua/uk-ua/product/7316.html\n",
      "https://www.mcdonalds.com/ua/uk-ua/product/200127.html\n",
      "https://www.mcdonalds.com/ua/uk-ua/product/7317.html\n",
      "https://www.mcdonalds.com/ua/uk-ua/product/200339.html\n",
      "https://www.mcdonalds.com/ua/uk-ua/product/200048.html\n",
      "https://www.mcdonalds.com/ua/uk-ua/product/200150.html\n",
      "https://www.mcdonalds.com/ua/uk-ua/product/200059.html\n",
      "https://www.mcdonalds.com/ua/uk-ua/product/200128.html\n",
      "https://www.mcdonalds.com/ua/uk-ua/product/200140.html\n",
      "https://www.mcdonalds.com/ua/uk-ua/product/200030.html\n",
      "https://www.mcdonalds.com/ua/uk-ua/product/200054.html\n",
      "https://www.mcdonalds.com/ua/uk-ua/product/7319.html\n",
      "https://www.mcdonalds.com/ua/uk-ua/product/200112.html\n",
      "https://www.mcdonalds.com/ua/uk-ua/product/200042.html\n",
      "https://www.mcdonalds.com/ua/uk-ua/product/2133.html\n",
      "https://www.mcdonalds.com/ua/uk-ua/product/200257.html\n",
      "https://www.mcdonalds.com/ua/uk-ua/product/200244.html\n",
      "https://www.mcdonalds.com/ua/uk-ua/product/200055.html\n",
      "https://www.mcdonalds.com/ua/uk-ua/product/200137.html\n",
      "https://www.mcdonalds.com/ua/uk-ua/product/200083.html\n",
      "https://www.mcdonalds.com/ua/uk-ua/product/200126.html\n"
     ]
    }
   ],
   "execution_count": 194
  },
  {
   "metadata": {
    "ExecuteTime": {
     "end_time": "2025-07-09T16:32:02.834105Z",
     "start_time": "2025-07-09T16:32:02.827448Z"
    }
   },
   "cell_type": "code",
   "source": [
    "with open('products.json', 'w', encoding='utf-8') as f:\n",
    "    json.dump(products_data, f, ensure_ascii=False, indent=4)"
   ],
   "id": "8cc34766818c16c5",
   "outputs": [],
   "execution_count": 195
  }
 ],
 "metadata": {
  "kernelspec": {
   "display_name": "Python 3",
   "language": "python",
   "name": "python3"
  },
  "language_info": {
   "codemirror_mode": {
    "name": "ipython",
    "version": 2
   },
   "file_extension": ".py",
   "mimetype": "text/x-python",
   "name": "python",
   "nbconvert_exporter": "python",
   "pygments_lexer": "ipython2",
   "version": "2.7.6"
  }
 },
 "nbformat": 4,
 "nbformat_minor": 5
}
